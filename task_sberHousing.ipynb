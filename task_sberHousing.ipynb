{
 "cells": [
  {
   "cell_type": "markdown",
   "metadata": {},
   "source": [
    "### Создаю новый репозиторий"
   ]
  },
  {
   "cell_type": "code",
   "execution_count": null,
   "metadata": {},
   "outputs": [],
   "source": [
    "# echo \"# ml_sber\" >> README.md\n",
    "# git init\n",
    "# git add README.md\n",
    "# git commit -m \"first commit\"\n",
    "# git branch -M main\n",
    "# git remote add origin https://github.com/mikelvov/ml_sber.git\n",
    "# git push -u origin main"
   ]
  },
  {
   "cell_type": "markdown",
   "metadata": {},
   "source": [
    "### Добавляю dvc"
   ]
  },
  {
   "cell_type": "code",
   "execution_count": 8,
   "metadata": {},
   "outputs": [
    {
     "name": "stderr",
     "output_type": "stream",
     "text": [
      "\u001b[31mERROR\u001b[39m: failed to initiate DVC - '.dvc' exists. Use `-f` to force.\n"
     ]
    }
   ],
   "source": [
    "! dvc init"
   ]
  },
  {
   "cell_type": "code",
   "execution_count": 9,
   "metadata": {},
   "outputs": [
    {
     "name": "stdout",
     "output_type": "stream",
     "text": [
      "\n",
      "To track the changes with git, run:\n",
      "\n",
      "\tgit add 'data\\train.csv.dvc'\n",
      "\n",
      "To enable auto staging, run:\n",
      "\n",
      "\tdvc config core.autostage true\n"
     ]
    }
   ],
   "source": [
    "! dvc add data/train.csv"
   ]
  },
  {
   "cell_type": "code",
   "execution_count": 10,
   "metadata": {},
   "outputs": [
    {
     "name": "stdout",
     "output_type": "stream",
     "text": [
      "On branch main\n",
      "Your branch is ahead of 'origin/main' by 5 commits.\n",
      "  (use \"git push\" to publish your local commits)\n",
      "\n",
      "Changes not staged for commit:\n",
      "  (use \"git add <file>...\" to update what will be committed)\n",
      "  (use \"git restore <file>...\" to discard changes in working directory)\n",
      "\tmodified:   README.md\n",
      "\tmodified:   task_sberHousing.ipynb\n",
      "\n",
      "Untracked files:\n",
      "  (use \"git add <file>...\" to include in what will be committed)\n",
      "\t.ipynb_checkpoints/\n",
      "\n",
      "no changes added to commit (use \"git add\" and/or \"git commit -a\")\n"
     ]
    }
   ],
   "source": [
    "! git add data/train.csv.dvc data/.gitignore\n",
    "! git commit -m \"Add data (dvc)\""
   ]
  },
  {
   "cell_type": "code",
   "execution_count": 14,
   "metadata": {},
   "outputs": [
    {
     "name": "stdout",
     "output_type": "stream",
     "text": [
      "[main a92c521] Configure remote storage\n",
      " 1 file changed, 1 insertion(+), 1 deletion(-)\n"
     ]
    }
   ],
   "source": [
    "! dvc remote add -f myremote https://drive.google.com/drive/folders/1v-Q2H_jEOmDbDuFFagUnbuKS0tWbFNTU?usp=sharing\n",
    "! dvc remote default myremote   \n",
    "! git add .dvc/config\n",
    "! git commit -m \"Configure remote storage\""
   ]
  },
  {
   "cell_type": "code",
   "execution_count": 15,
   "metadata": {},
   "outputs": [
    {
     "name": "stdout",
     "output_type": "stream",
     "text": [
      "Everything is up to date.\n"
     ]
    }
   ],
   "source": [
    "! dvc push"
   ]
  },
  {
   "cell_type": "code",
   "execution_count": 16,
   "metadata": {},
   "outputs": [
    {
     "name": "stdout",
     "output_type": "stream",
     "text": [
      "Everything is up to date.\n"
     ]
    }
   ],
   "source": [
    "! dvc pull -f"
   ]
  },
  {
   "cell_type": "markdown",
   "metadata": {},
   "source": [
    "## Читаем данные и проверяем на пропуски"
   ]
  },
  {
   "cell_type": "code",
   "execution_count": 17,
   "metadata": {},
   "outputs": [],
   "source": [
    "import pandas as pd\n",
    "import numpy as np\n",
    "import matplotlib.pyplot as plt"
   ]
  },
  {
   "cell_type": "code",
   "execution_count": 18,
   "metadata": {},
   "outputs": [],
   "source": [
    "data = pd.read_csv('D:/User/Desktop/ml_sberhousing/data/train.csv')"
   ]
  },
  {
   "cell_type": "code",
   "execution_count": 19,
   "metadata": {},
   "outputs": [
    {
     "data": {
      "text/html": [
       "<div>\n",
       "<style scoped>\n",
       "    .dataframe tbody tr th:only-of-type {\n",
       "        vertical-align: middle;\n",
       "    }\n",
       "\n",
       "    .dataframe tbody tr th {\n",
       "        vertical-align: top;\n",
       "    }\n",
       "\n",
       "    .dataframe thead th {\n",
       "        text-align: right;\n",
       "    }\n",
       "</style>\n",
       "<table border=\"1\" class=\"dataframe\">\n",
       "  <thead>\n",
       "    <tr style=\"text-align: right;\">\n",
       "      <th></th>\n",
       "      <th>id</th>\n",
       "      <th>timestamp</th>\n",
       "      <th>full_sq</th>\n",
       "      <th>life_sq</th>\n",
       "      <th>floor</th>\n",
       "      <th>max_floor</th>\n",
       "      <th>material</th>\n",
       "      <th>build_year</th>\n",
       "      <th>num_room</th>\n",
       "      <th>kitch_sq</th>\n",
       "      <th>...</th>\n",
       "      <th>cafe_count_5000_price_2500</th>\n",
       "      <th>cafe_count_5000_price_4000</th>\n",
       "      <th>cafe_count_5000_price_high</th>\n",
       "      <th>big_church_count_5000</th>\n",
       "      <th>church_count_5000</th>\n",
       "      <th>mosque_count_5000</th>\n",
       "      <th>leisure_count_5000</th>\n",
       "      <th>sport_count_5000</th>\n",
       "      <th>market_count_5000</th>\n",
       "      <th>price_doc</th>\n",
       "    </tr>\n",
       "  </thead>\n",
       "  <tbody>\n",
       "    <tr>\n",
       "      <th>0</th>\n",
       "      <td>1</td>\n",
       "      <td>2011-08-20</td>\n",
       "      <td>43</td>\n",
       "      <td>27.0</td>\n",
       "      <td>4.0</td>\n",
       "      <td>NaN</td>\n",
       "      <td>NaN</td>\n",
       "      <td>NaN</td>\n",
       "      <td>NaN</td>\n",
       "      <td>NaN</td>\n",
       "      <td>...</td>\n",
       "      <td>9</td>\n",
       "      <td>4</td>\n",
       "      <td>0</td>\n",
       "      <td>13</td>\n",
       "      <td>22</td>\n",
       "      <td>1</td>\n",
       "      <td>0</td>\n",
       "      <td>52</td>\n",
       "      <td>4</td>\n",
       "      <td>5850000</td>\n",
       "    </tr>\n",
       "    <tr>\n",
       "      <th>1</th>\n",
       "      <td>2</td>\n",
       "      <td>2011-08-23</td>\n",
       "      <td>34</td>\n",
       "      <td>19.0</td>\n",
       "      <td>3.0</td>\n",
       "      <td>NaN</td>\n",
       "      <td>NaN</td>\n",
       "      <td>NaN</td>\n",
       "      <td>NaN</td>\n",
       "      <td>NaN</td>\n",
       "      <td>...</td>\n",
       "      <td>15</td>\n",
       "      <td>3</td>\n",
       "      <td>0</td>\n",
       "      <td>15</td>\n",
       "      <td>29</td>\n",
       "      <td>1</td>\n",
       "      <td>10</td>\n",
       "      <td>66</td>\n",
       "      <td>14</td>\n",
       "      <td>6000000</td>\n",
       "    </tr>\n",
       "    <tr>\n",
       "      <th>2</th>\n",
       "      <td>3</td>\n",
       "      <td>2011-08-27</td>\n",
       "      <td>43</td>\n",
       "      <td>29.0</td>\n",
       "      <td>2.0</td>\n",
       "      <td>NaN</td>\n",
       "      <td>NaN</td>\n",
       "      <td>NaN</td>\n",
       "      <td>NaN</td>\n",
       "      <td>NaN</td>\n",
       "      <td>...</td>\n",
       "      <td>10</td>\n",
       "      <td>3</td>\n",
       "      <td>0</td>\n",
       "      <td>11</td>\n",
       "      <td>27</td>\n",
       "      <td>0</td>\n",
       "      <td>4</td>\n",
       "      <td>67</td>\n",
       "      <td>10</td>\n",
       "      <td>5700000</td>\n",
       "    </tr>\n",
       "    <tr>\n",
       "      <th>3</th>\n",
       "      <td>4</td>\n",
       "      <td>2011-09-01</td>\n",
       "      <td>89</td>\n",
       "      <td>50.0</td>\n",
       "      <td>9.0</td>\n",
       "      <td>NaN</td>\n",
       "      <td>NaN</td>\n",
       "      <td>NaN</td>\n",
       "      <td>NaN</td>\n",
       "      <td>NaN</td>\n",
       "      <td>...</td>\n",
       "      <td>11</td>\n",
       "      <td>2</td>\n",
       "      <td>1</td>\n",
       "      <td>4</td>\n",
       "      <td>4</td>\n",
       "      <td>0</td>\n",
       "      <td>0</td>\n",
       "      <td>26</td>\n",
       "      <td>3</td>\n",
       "      <td>13100000</td>\n",
       "    </tr>\n",
       "    <tr>\n",
       "      <th>4</th>\n",
       "      <td>5</td>\n",
       "      <td>2011-09-05</td>\n",
       "      <td>77</td>\n",
       "      <td>77.0</td>\n",
       "      <td>4.0</td>\n",
       "      <td>NaN</td>\n",
       "      <td>NaN</td>\n",
       "      <td>NaN</td>\n",
       "      <td>NaN</td>\n",
       "      <td>NaN</td>\n",
       "      <td>...</td>\n",
       "      <td>319</td>\n",
       "      <td>108</td>\n",
       "      <td>17</td>\n",
       "      <td>135</td>\n",
       "      <td>236</td>\n",
       "      <td>2</td>\n",
       "      <td>91</td>\n",
       "      <td>195</td>\n",
       "      <td>14</td>\n",
       "      <td>16331452</td>\n",
       "    </tr>\n",
       "  </tbody>\n",
       "</table>\n",
       "<p>5 rows × 292 columns</p>\n",
       "</div>"
      ],
      "text/plain": [
       "   id   timestamp  full_sq  life_sq  floor  max_floor  material  build_year  \\\n",
       "0   1  2011-08-20       43     27.0    4.0        NaN       NaN         NaN   \n",
       "1   2  2011-08-23       34     19.0    3.0        NaN       NaN         NaN   \n",
       "2   3  2011-08-27       43     29.0    2.0        NaN       NaN         NaN   \n",
       "3   4  2011-09-01       89     50.0    9.0        NaN       NaN         NaN   \n",
       "4   5  2011-09-05       77     77.0    4.0        NaN       NaN         NaN   \n",
       "\n",
       "   num_room  kitch_sq  ...  cafe_count_5000_price_2500  \\\n",
       "0       NaN       NaN  ...                           9   \n",
       "1       NaN       NaN  ...                          15   \n",
       "2       NaN       NaN  ...                          10   \n",
       "3       NaN       NaN  ...                          11   \n",
       "4       NaN       NaN  ...                         319   \n",
       "\n",
       "  cafe_count_5000_price_4000 cafe_count_5000_price_high  \\\n",
       "0                          4                          0   \n",
       "1                          3                          0   \n",
       "2                          3                          0   \n",
       "3                          2                          1   \n",
       "4                        108                         17   \n",
       "\n",
       "   big_church_count_5000  church_count_5000  mosque_count_5000  \\\n",
       "0                     13                 22                  1   \n",
       "1                     15                 29                  1   \n",
       "2                     11                 27                  0   \n",
       "3                      4                  4                  0   \n",
       "4                    135                236                  2   \n",
       "\n",
       "   leisure_count_5000  sport_count_5000  market_count_5000  price_doc  \n",
       "0                   0                52                  4    5850000  \n",
       "1                  10                66                 14    6000000  \n",
       "2                   4                67                 10    5700000  \n",
       "3                   0                26                  3   13100000  \n",
       "4                  91               195                 14   16331452  \n",
       "\n",
       "[5 rows x 292 columns]"
      ]
     },
     "execution_count": 19,
     "metadata": {},
     "output_type": "execute_result"
    }
   ],
   "source": [
    "data.head()"
   ]
  },
  {
   "cell_type": "code",
   "execution_count": 20,
   "metadata": {},
   "outputs": [
    {
     "name": "stdout",
     "output_type": "stream",
     "text": [
      "<class 'pandas.core.frame.DataFrame'>\n",
      "RangeIndex: 30471 entries, 0 to 30470\n",
      "Columns: 292 entries, id to price_doc\n",
      "dtypes: float64(119), int64(157), object(16)\n",
      "memory usage: 67.9+ MB\n"
     ]
    }
   ],
   "source": [
    "data.info()"
   ]
  },
  {
   "cell_type": "code",
   "execution_count": 21,
   "metadata": {},
   "outputs": [],
   "source": [
    "# Missing values by column\n",
    "def missing_values_table(df):\n",
    "        # Total missing values\n",
    "        mis_val = df.isnull().sum()\n",
    "        \n",
    "        # Percentage of missing values\n",
    "        mis_val_percent = 100 * df.isnull().sum() / len(df)\n",
    "        \n",
    "        # Make a table with the results\n",
    "        mis_val_table = pd.concat([mis_val, mis_val_percent], axis=1)\n",
    "        \n",
    "        # Rename the columns\n",
    "        mis_val_table_ren_columns = mis_val_table.rename(\n",
    "        columns = {0 : 'Missing Values', 1 : '% of Total Values'})\n",
    "        \n",
    "        # Sort the table by percentage of missing descending\n",
    "        mis_val_table_ren_columns = mis_val_table_ren_columns[\n",
    "            mis_val_table_ren_columns.iloc[:,1] != 0].sort_values(\n",
    "        '% of Total Values', ascending=False).round(1)\n",
    "        \n",
    "        # Print some summary information\n",
    "        print (\"Your selected dataframe has \" + str(df.shape[1]) + \" columns.\\n\"      \n",
    "            \"There are \" + str(mis_val_table_ren_columns.shape[0]) +\n",
    "              \" columns that have missing values.\")\n",
    "        \n",
    "        # Return the dataframe with missing information\n",
    "        return mis_val_table_ren_columns"
   ]
  },
  {
   "cell_type": "code",
   "execution_count": 22,
   "metadata": {},
   "outputs": [
    {
     "name": "stdout",
     "output_type": "stream",
     "text": [
      "Your selected dataframe has 292 columns.\n",
      "There are 51 columns that have missing values.\n"
     ]
    },
    {
     "data": {
      "text/html": [
       "<div>\n",
       "<style scoped>\n",
       "    .dataframe tbody tr th:only-of-type {\n",
       "        vertical-align: middle;\n",
       "    }\n",
       "\n",
       "    .dataframe tbody tr th {\n",
       "        vertical-align: top;\n",
       "    }\n",
       "\n",
       "    .dataframe thead th {\n",
       "        text-align: right;\n",
       "    }\n",
       "</style>\n",
       "<table border=\"1\" class=\"dataframe\">\n",
       "  <thead>\n",
       "    <tr style=\"text-align: right;\">\n",
       "      <th></th>\n",
       "      <th>Missing Values</th>\n",
       "      <th>% of Total Values</th>\n",
       "    </tr>\n",
       "  </thead>\n",
       "  <tbody>\n",
       "    <tr>\n",
       "      <th>hospital_beds_raion</th>\n",
       "      <td>14441</td>\n",
       "      <td>47.4</td>\n",
       "    </tr>\n",
       "    <tr>\n",
       "      <th>build_year</th>\n",
       "      <td>13605</td>\n",
       "      <td>44.6</td>\n",
       "    </tr>\n",
       "    <tr>\n",
       "      <th>state</th>\n",
       "      <td>13559</td>\n",
       "      <td>44.5</td>\n",
       "    </tr>\n",
       "    <tr>\n",
       "      <th>cafe_sum_500_max_price_avg</th>\n",
       "      <td>13281</td>\n",
       "      <td>43.6</td>\n",
       "    </tr>\n",
       "    <tr>\n",
       "      <th>cafe_sum_500_min_price_avg</th>\n",
       "      <td>13281</td>\n",
       "      <td>43.6</td>\n",
       "    </tr>\n",
       "    <tr>\n",
       "      <th>cafe_avg_price_500</th>\n",
       "      <td>13281</td>\n",
       "      <td>43.6</td>\n",
       "    </tr>\n",
       "    <tr>\n",
       "      <th>max_floor</th>\n",
       "      <td>9572</td>\n",
       "      <td>31.4</td>\n",
       "    </tr>\n",
       "    <tr>\n",
       "      <th>material</th>\n",
       "      <td>9572</td>\n",
       "      <td>31.4</td>\n",
       "    </tr>\n",
       "    <tr>\n",
       "      <th>num_room</th>\n",
       "      <td>9572</td>\n",
       "      <td>31.4</td>\n",
       "    </tr>\n",
       "    <tr>\n",
       "      <th>kitch_sq</th>\n",
       "      <td>9572</td>\n",
       "      <td>31.4</td>\n",
       "    </tr>\n",
       "    <tr>\n",
       "      <th>preschool_quota</th>\n",
       "      <td>6688</td>\n",
       "      <td>21.9</td>\n",
       "    </tr>\n",
       "    <tr>\n",
       "      <th>school_quota</th>\n",
       "      <td>6685</td>\n",
       "      <td>21.9</td>\n",
       "    </tr>\n",
       "    <tr>\n",
       "      <th>cafe_avg_price_1000</th>\n",
       "      <td>6524</td>\n",
       "      <td>21.4</td>\n",
       "    </tr>\n",
       "    <tr>\n",
       "      <th>cafe_sum_1000_max_price_avg</th>\n",
       "      <td>6524</td>\n",
       "      <td>21.4</td>\n",
       "    </tr>\n",
       "    <tr>\n",
       "      <th>cafe_sum_1000_min_price_avg</th>\n",
       "      <td>6524</td>\n",
       "      <td>21.4</td>\n",
       "    </tr>\n",
       "    <tr>\n",
       "      <th>life_sq</th>\n",
       "      <td>6383</td>\n",
       "      <td>20.9</td>\n",
       "    </tr>\n",
       "    <tr>\n",
       "      <th>raion_build_count_with_builddate_info</th>\n",
       "      <td>4991</td>\n",
       "      <td>16.4</td>\n",
       "    </tr>\n",
       "    <tr>\n",
       "      <th>build_count_after_1995</th>\n",
       "      <td>4991</td>\n",
       "      <td>16.4</td>\n",
       "    </tr>\n",
       "    <tr>\n",
       "      <th>build_count_1946-1970</th>\n",
       "      <td>4991</td>\n",
       "      <td>16.4</td>\n",
       "    </tr>\n",
       "    <tr>\n",
       "      <th>build_count_1921-1945</th>\n",
       "      <td>4991</td>\n",
       "      <td>16.4</td>\n",
       "    </tr>\n",
       "    <tr>\n",
       "      <th>build_count_before_1920</th>\n",
       "      <td>4991</td>\n",
       "      <td>16.4</td>\n",
       "    </tr>\n",
       "    <tr>\n",
       "      <th>build_count_1971-1995</th>\n",
       "      <td>4991</td>\n",
       "      <td>16.4</td>\n",
       "    </tr>\n",
       "    <tr>\n",
       "      <th>build_count_mix</th>\n",
       "      <td>4991</td>\n",
       "      <td>16.4</td>\n",
       "    </tr>\n",
       "    <tr>\n",
       "      <th>build_count_monolith</th>\n",
       "      <td>4991</td>\n",
       "      <td>16.4</td>\n",
       "    </tr>\n",
       "    <tr>\n",
       "      <th>raion_build_count_with_material_info</th>\n",
       "      <td>4991</td>\n",
       "      <td>16.4</td>\n",
       "    </tr>\n",
       "    <tr>\n",
       "      <th>build_count_slag</th>\n",
       "      <td>4991</td>\n",
       "      <td>16.4</td>\n",
       "    </tr>\n",
       "    <tr>\n",
       "      <th>build_count_wood</th>\n",
       "      <td>4991</td>\n",
       "      <td>16.4</td>\n",
       "    </tr>\n",
       "    <tr>\n",
       "      <th>build_count_frame</th>\n",
       "      <td>4991</td>\n",
       "      <td>16.4</td>\n",
       "    </tr>\n",
       "    <tr>\n",
       "      <th>build_count_brick</th>\n",
       "      <td>4991</td>\n",
       "      <td>16.4</td>\n",
       "    </tr>\n",
       "    <tr>\n",
       "      <th>build_count_block</th>\n",
       "      <td>4991</td>\n",
       "      <td>16.4</td>\n",
       "    </tr>\n",
       "    <tr>\n",
       "      <th>build_count_panel</th>\n",
       "      <td>4991</td>\n",
       "      <td>16.4</td>\n",
       "    </tr>\n",
       "    <tr>\n",
       "      <th>build_count_foam</th>\n",
       "      <td>4991</td>\n",
       "      <td>16.4</td>\n",
       "    </tr>\n",
       "    <tr>\n",
       "      <th>cafe_avg_price_1500</th>\n",
       "      <td>4199</td>\n",
       "      <td>13.8</td>\n",
       "    </tr>\n",
       "    <tr>\n",
       "      <th>cafe_sum_1500_min_price_avg</th>\n",
       "      <td>4199</td>\n",
       "      <td>13.8</td>\n",
       "    </tr>\n",
       "    <tr>\n",
       "      <th>cafe_sum_1500_max_price_avg</th>\n",
       "      <td>4199</td>\n",
       "      <td>13.8</td>\n",
       "    </tr>\n",
       "    <tr>\n",
       "      <th>cafe_avg_price_2000</th>\n",
       "      <td>1725</td>\n",
       "      <td>5.7</td>\n",
       "    </tr>\n",
       "    <tr>\n",
       "      <th>cafe_sum_2000_min_price_avg</th>\n",
       "      <td>1725</td>\n",
       "      <td>5.7</td>\n",
       "    </tr>\n",
       "    <tr>\n",
       "      <th>cafe_sum_2000_max_price_avg</th>\n",
       "      <td>1725</td>\n",
       "      <td>5.7</td>\n",
       "    </tr>\n",
       "    <tr>\n",
       "      <th>cafe_avg_price_3000</th>\n",
       "      <td>991</td>\n",
       "      <td>3.3</td>\n",
       "    </tr>\n",
       "    <tr>\n",
       "      <th>cafe_sum_3000_max_price_avg</th>\n",
       "      <td>991</td>\n",
       "      <td>3.3</td>\n",
       "    </tr>\n",
       "    <tr>\n",
       "      <th>cafe_sum_3000_min_price_avg</th>\n",
       "      <td>991</td>\n",
       "      <td>3.3</td>\n",
       "    </tr>\n",
       "    <tr>\n",
       "      <th>cafe_sum_5000_max_price_avg</th>\n",
       "      <td>297</td>\n",
       "      <td>1.0</td>\n",
       "    </tr>\n",
       "    <tr>\n",
       "      <th>cafe_sum_5000_min_price_avg</th>\n",
       "      <td>297</td>\n",
       "      <td>1.0</td>\n",
       "    </tr>\n",
       "    <tr>\n",
       "      <th>cafe_avg_price_5000</th>\n",
       "      <td>297</td>\n",
       "      <td>1.0</td>\n",
       "    </tr>\n",
       "    <tr>\n",
       "      <th>prom_part_5000</th>\n",
       "      <td>178</td>\n",
       "      <td>0.6</td>\n",
       "    </tr>\n",
       "    <tr>\n",
       "      <th>floor</th>\n",
       "      <td>167</td>\n",
       "      <td>0.5</td>\n",
       "    </tr>\n",
       "    <tr>\n",
       "      <th>ID_railroad_station_walk</th>\n",
       "      <td>25</td>\n",
       "      <td>0.1</td>\n",
       "    </tr>\n",
       "    <tr>\n",
       "      <th>metro_min_walk</th>\n",
       "      <td>25</td>\n",
       "      <td>0.1</td>\n",
       "    </tr>\n",
       "    <tr>\n",
       "      <th>metro_km_walk</th>\n",
       "      <td>25</td>\n",
       "      <td>0.1</td>\n",
       "    </tr>\n",
       "    <tr>\n",
       "      <th>railroad_station_walk_km</th>\n",
       "      <td>25</td>\n",
       "      <td>0.1</td>\n",
       "    </tr>\n",
       "    <tr>\n",
       "      <th>railroad_station_walk_min</th>\n",
       "      <td>25</td>\n",
       "      <td>0.1</td>\n",
       "    </tr>\n",
       "  </tbody>\n",
       "</table>\n",
       "</div>"
      ],
      "text/plain": [
       "                                       Missing Values  % of Total Values\n",
       "hospital_beds_raion                             14441               47.4\n",
       "build_year                                      13605               44.6\n",
       "state                                           13559               44.5\n",
       "cafe_sum_500_max_price_avg                      13281               43.6\n",
       "cafe_sum_500_min_price_avg                      13281               43.6\n",
       "cafe_avg_price_500                              13281               43.6\n",
       "max_floor                                        9572               31.4\n",
       "material                                         9572               31.4\n",
       "num_room                                         9572               31.4\n",
       "kitch_sq                                         9572               31.4\n",
       "preschool_quota                                  6688               21.9\n",
       "school_quota                                     6685               21.9\n",
       "cafe_avg_price_1000                              6524               21.4\n",
       "cafe_sum_1000_max_price_avg                      6524               21.4\n",
       "cafe_sum_1000_min_price_avg                      6524               21.4\n",
       "life_sq                                          6383               20.9\n",
       "raion_build_count_with_builddate_info            4991               16.4\n",
       "build_count_after_1995                           4991               16.4\n",
       "build_count_1946-1970                            4991               16.4\n",
       "build_count_1921-1945                            4991               16.4\n",
       "build_count_before_1920                          4991               16.4\n",
       "build_count_1971-1995                            4991               16.4\n",
       "build_count_mix                                  4991               16.4\n",
       "build_count_monolith                             4991               16.4\n",
       "raion_build_count_with_material_info             4991               16.4\n",
       "build_count_slag                                 4991               16.4\n",
       "build_count_wood                                 4991               16.4\n",
       "build_count_frame                                4991               16.4\n",
       "build_count_brick                                4991               16.4\n",
       "build_count_block                                4991               16.4\n",
       "build_count_panel                                4991               16.4\n",
       "build_count_foam                                 4991               16.4\n",
       "cafe_avg_price_1500                              4199               13.8\n",
       "cafe_sum_1500_min_price_avg                      4199               13.8\n",
       "cafe_sum_1500_max_price_avg                      4199               13.8\n",
       "cafe_avg_price_2000                              1725                5.7\n",
       "cafe_sum_2000_min_price_avg                      1725                5.7\n",
       "cafe_sum_2000_max_price_avg                      1725                5.7\n",
       "cafe_avg_price_3000                               991                3.3\n",
       "cafe_sum_3000_max_price_avg                       991                3.3\n",
       "cafe_sum_3000_min_price_avg                       991                3.3\n",
       "cafe_sum_5000_max_price_avg                       297                1.0\n",
       "cafe_sum_5000_min_price_avg                       297                1.0\n",
       "cafe_avg_price_5000                               297                1.0\n",
       "prom_part_5000                                    178                0.6\n",
       "floor                                             167                0.5\n",
       "ID_railroad_station_walk                           25                0.1\n",
       "metro_min_walk                                     25                0.1\n",
       "metro_km_walk                                      25                0.1\n",
       "railroad_station_walk_km                           25                0.1\n",
       "railroad_station_walk_min                          25                0.1"
      ]
     },
     "execution_count": 22,
     "metadata": {},
     "output_type": "execute_result"
    }
   ],
   "source": [
    "missing_values_table(data)"
   ]
  },
  {
   "cell_type": "markdown",
   "metadata": {},
   "source": [
    "#### Значения пропущены в большинстве там, что не буду использовать"
   ]
  },
  {
   "cell_type": "code",
   "execution_count": 23,
   "metadata": {},
   "outputs": [
    {
     "data": {
      "image/png": "[encoded data removed]",
      "text/plain": [
       "<Figure size 432x288 with 1 Axes>"
      ]
     },
     "metadata": {},
     "output_type": "display_data"
    }
   ],
   "source": [
    "plt.style.use('fivethirtyeight')\n",
    "plt.hist(data['price_doc'],bins = 500, edgecolor = 'k');\n",
    "plt.axis([0, 3e+7, 0, 2000])\n",
    "plt.xlabel('Цена, в десятках млн'); plt.ylabel('Количество квартир'); \n",
    "#plt.title('Energy Star Score Distribution');"
   ]
  },
  {
   "cell_type": "code",
   "execution_count": 24,
   "metadata": {},
   "outputs": [
    {
     "data": {
      "image/png": "[encoded data removed]",
      "text/plain": [
       "<Figure size 432x288 with 1 Axes>"
      ]
     },
     "metadata": {},
     "output_type": "display_data"
    }
   ],
   "source": [
    "plt.style.use('fivethirtyeight')\n",
    "plt.hist(data['full_sq'],bins = 1000, edgecolor = 'k');\n",
    "plt.axis([0, 150, 0, 15000])\n",
    "plt.xlabel('Площадь, м^2'); plt.ylabel('Количество квартир'); "
   ]
  },
  {
   "cell_type": "markdown",
   "metadata": {},
   "source": [
    "## Выбираю наиболее влияющие на цену столбцы по корреляции и сам добавляю другие"
   ]
  },
  {
   "cell_type": "code",
   "execution_count": 25,
   "metadata": {},
   "outputs": [],
   "source": [
    "correl = data.corr()['price_doc'].sort_values()"
   ]
  },
  {
   "cell_type": "code",
   "execution_count": 26,
   "metadata": {},
   "outputs": [
    {
     "data": {
      "text/plain": [
       "cafe_count_5000               0.231546\n",
       "cafe_count_5000_price_1500    0.232612\n",
       "cafe_count_5000_price_1000    0.240464\n",
       "trc_count_3000                0.242068\n",
       "sport_objects_raion           0.252794\n",
       "sport_count_1500              0.258376\n",
       "trc_sqm_5000                  0.268072\n",
       "office_sqm_5000               0.269977\n",
       "sport_count_2000              0.278056\n",
       "trc_count_5000                0.289371\n",
       "sport_count_3000              0.290651\n",
       "sport_count_5000              0.294864\n",
       "full_sq                       0.341840\n",
       "num_room                      0.476337\n",
       "price_doc                     1.000000\n",
       "Name: price_doc, dtype: float64"
      ]
     },
     "execution_count": 26,
     "metadata": {},
     "output_type": "execute_result"
    }
   ],
   "source": [
    "correl[-15:]"
   ]
  },
  {
   "cell_type": "code",
   "execution_count": 27,
   "metadata": {},
   "outputs": [
    {
     "data": {
      "text/plain": [
       "zd_vokzaly_avto_km       -0.284069\n",
       "sadovoe_km               -0.283622\n",
       "kremlin_km               -0.279249\n",
       "bulvar_ring_km           -0.279158\n",
       "ttk_km                   -0.272620\n",
       "nuclear_reactor_km       -0.257946\n",
       "stadium_km               -0.236924\n",
       "basketball_km            -0.223462\n",
       "office_km                -0.223429\n",
       "detention_facility_km    -0.223061\n",
       "university_km            -0.218552\n",
       "theater_km               -0.216025\n",
       "swim_pool_km             -0.211798\n",
       "catering_km              -0.210793\n",
       "thermal_power_plant_km   -0.210417\n",
       "Name: price_doc, dtype: float64"
      ]
     },
     "execution_count": 27,
     "metadata": {},
     "output_type": "execute_result"
    }
   ],
   "source": [
    "correl[:15]"
   ]
  },
  {
   "cell_type": "markdown",
   "metadata": {},
   "source": [
    "#### Беру 15 отрицательно коррелирующих и сам добавляю из положительных и тех, которые сам решил"
   ]
  },
  {
   "cell_type": "code",
   "execution_count": 28,
   "metadata": {},
   "outputs": [
    {
     "data": {
      "text/plain": [
       "['price_doc',\n",
       " 'num_room',\n",
       " 'full_sq',\n",
       " 'sport_count_5000',\n",
       " 'trc_count_5000',\n",
       " 'floor',\n",
       " 'material',\n",
       " 'build_year',\n",
       " 'sub_area',\n",
       " 'zd_vokzaly_avto_km',\n",
       " 'sadovoe_km',\n",
       " 'kremlin_km',\n",
       " 'bulvar_ring_km',\n",
       " 'ttk_km',\n",
       " 'nuclear_reactor_km',\n",
       " 'stadium_km',\n",
       " 'basketball_km',\n",
       " 'office_km',\n",
       " 'detention_facility_km',\n",
       " 'university_km',\n",
       " 'theater_km',\n",
       " 'swim_pool_km',\n",
       " 'catering_km',\n",
       " 'thermal_power_plant_km']"
      ]
     },
     "execution_count": 28,
     "metadata": {},
     "output_type": "execute_result"
    }
   ],
   "source": [
    "index0= np.array(['price_doc','num_room','full_sq','sport_count_5000','trc_count_5000','floor','material','build_year','sub_area'])\n",
    "index = [*index0,*correl[:15].index] \n",
    "index"
   ]
  },
  {
   "cell_type": "markdown",
   "metadata": {},
   "source": [
    "## Создаю новый датасет с выбранными признаками"
   ]
  },
  {
   "cell_type": "code",
   "execution_count": 29,
   "metadata": {},
   "outputs": [],
   "source": [
    "data1 = pd.DataFrame(data=data, columns=index, index=data.index)"
   ]
  },
  {
   "cell_type": "code",
   "execution_count": 30,
   "metadata": {
    "scrolled": false
   },
   "outputs": [
    {
     "data": {
      "text/html": [
       "<div>\n",
       "<style scoped>\n",
       "    .dataframe tbody tr th:only-of-type {\n",
       "        vertical-align: middle;\n",
       "    }\n",
       "\n",
       "    .dataframe tbody tr th {\n",
       "        vertical-align: top;\n",
       "    }\n",
       "\n",
       "    .dataframe thead th {\n",
       "        text-align: right;\n",
       "    }\n",
       "</style>\n",
       "<table border=\"1\" class=\"dataframe\">\n",
       "  <thead>\n",
       "    <tr style=\"text-align: right;\">\n",
       "      <th></th>\n",
       "      <th>price_doc</th>\n",
       "      <th>num_room</th>\n",
       "      <th>full_sq</th>\n",
       "      <th>sport_count_5000</th>\n",
       "      <th>trc_count_5000</th>\n",
       "      <th>floor</th>\n",
       "      <th>material</th>\n",
       "      <th>build_year</th>\n",
       "      <th>sub_area</th>\n",
       "      <th>zd_vokzaly_avto_km</th>\n",
       "      <th>...</th>\n",
       "      <th>nuclear_reactor_km</th>\n",
       "      <th>stadium_km</th>\n",
       "      <th>basketball_km</th>\n",
       "      <th>office_km</th>\n",
       "      <th>detention_facility_km</th>\n",
       "      <th>university_km</th>\n",
       "      <th>theater_km</th>\n",
       "      <th>swim_pool_km</th>\n",
       "      <th>catering_km</th>\n",
       "      <th>thermal_power_plant_km</th>\n",
       "    </tr>\n",
       "  </thead>\n",
       "  <tbody>\n",
       "    <tr>\n",
       "      <th>0</th>\n",
       "      <td>5850000</td>\n",
       "      <td>NaN</td>\n",
       "      <td>43</td>\n",
       "      <td>52</td>\n",
       "      <td>52</td>\n",
       "      <td>4.0</td>\n",
       "      <td>NaN</td>\n",
       "      <td>NaN</td>\n",
       "      <td>Bibirevo</td>\n",
       "      <td>14.231961</td>\n",
       "      <td>...</td>\n",
       "      <td>5.718519</td>\n",
       "      <td>8.148591</td>\n",
       "      <td>3.516513</td>\n",
       "      <td>0.637189</td>\n",
       "      <td>4.248036</td>\n",
       "      <td>6.715026</td>\n",
       "      <td>14.053047</td>\n",
       "      <td>3.065047</td>\n",
       "      <td>0.516838</td>\n",
       "      <td>5.814135</td>\n",
       "    </tr>\n",
       "    <tr>\n",
       "      <th>1</th>\n",
       "      <td>6000000</td>\n",
       "      <td>NaN</td>\n",
       "      <td>34</td>\n",
       "      <td>66</td>\n",
       "      <td>40</td>\n",
       "      <td>3.0</td>\n",
       "      <td>NaN</td>\n",
       "      <td>NaN</td>\n",
       "      <td>Nagatinskij Zaton</td>\n",
       "      <td>9.242586</td>\n",
       "      <td>...</td>\n",
       "      <td>3.489954</td>\n",
       "      <td>6.127073</td>\n",
       "      <td>1.161579</td>\n",
       "      <td>0.688796</td>\n",
       "      <td>12.649879</td>\n",
       "      <td>1.852560</td>\n",
       "      <td>6.829889</td>\n",
       "      <td>2.000154</td>\n",
       "      <td>0.230287</td>\n",
       "      <td>3.419574</td>\n",
       "    </tr>\n",
       "    <tr>\n",
       "      <th>2</th>\n",
       "      <td>5700000</td>\n",
       "      <td>NaN</td>\n",
       "      <td>43</td>\n",
       "      <td>67</td>\n",
       "      <td>35</td>\n",
       "      <td>2.0</td>\n",
       "      <td>NaN</td>\n",
       "      <td>NaN</td>\n",
       "      <td>Tekstil'shhiki</td>\n",
       "      <td>9.540544</td>\n",
       "      <td>...</td>\n",
       "      <td>7.506612</td>\n",
       "      <td>0.767569</td>\n",
       "      <td>1.952771</td>\n",
       "      <td>1.543049</td>\n",
       "      <td>7.682303</td>\n",
       "      <td>0.841254</td>\n",
       "      <td>4.273200</td>\n",
       "      <td>1.239304</td>\n",
       "      <td>0.190462</td>\n",
       "      <td>3.682455</td>\n",
       "    </tr>\n",
       "    <tr>\n",
       "      <th>3</th>\n",
       "      <td>13100000</td>\n",
       "      <td>NaN</td>\n",
       "      <td>89</td>\n",
       "      <td>26</td>\n",
       "      <td>22</td>\n",
       "      <td>9.0</td>\n",
       "      <td>NaN</td>\n",
       "      <td>NaN</td>\n",
       "      <td>Mitino</td>\n",
       "      <td>17.478380</td>\n",
       "      <td>...</td>\n",
       "      <td>9.522538</td>\n",
       "      <td>7.385521</td>\n",
       "      <td>4.923843</td>\n",
       "      <td>0.934273</td>\n",
       "      <td>8.789894</td>\n",
       "      <td>10.903161</td>\n",
       "      <td>16.990677</td>\n",
       "      <td>1.950317</td>\n",
       "      <td>0.465820</td>\n",
       "      <td>11.178333</td>\n",
       "    </tr>\n",
       "    <tr>\n",
       "      <th>4</th>\n",
       "      <td>16331452</td>\n",
       "      <td>NaN</td>\n",
       "      <td>77</td>\n",
       "      <td>195</td>\n",
       "      <td>114</td>\n",
       "      <td>4.0</td>\n",
       "      <td>NaN</td>\n",
       "      <td>NaN</td>\n",
       "      <td>Basmannoe</td>\n",
       "      <td>1.595898</td>\n",
       "      <td>...</td>\n",
       "      <td>8.671016</td>\n",
       "      <td>3.610754</td>\n",
       "      <td>0.307915</td>\n",
       "      <td>0.077901</td>\n",
       "      <td>3.779781</td>\n",
       "      <td>0.991683</td>\n",
       "      <td>1.112486</td>\n",
       "      <td>2.544696</td>\n",
       "      <td>0.026102</td>\n",
       "      <td>4.587917</td>\n",
       "    </tr>\n",
       "  </tbody>\n",
       "</table>\n",
       "<p>5 rows × 24 columns</p>\n",
       "</div>"
      ],
      "text/plain": [
       "   price_doc  num_room  full_sq  sport_count_5000  trc_count_5000  floor  \\\n",
       "0    5850000       NaN       43                52              52    4.0   \n",
       "1    6000000       NaN       34                66              40    3.0   \n",
       "2    5700000       NaN       43                67              35    2.0   \n",
       "3   13100000       NaN       89                26              22    9.0   \n",
       "4   16331452       NaN       77               195             114    4.0   \n",
       "\n",
       "   material  build_year           sub_area  zd_vokzaly_avto_km  ...  \\\n",
       "0       NaN         NaN           Bibirevo           14.231961  ...   \n",
       "1       NaN         NaN  Nagatinskij Zaton            9.242586  ...   \n",
       "2       NaN         NaN     Tekstil'shhiki            9.540544  ...   \n",
       "3       NaN         NaN             Mitino           17.478380  ...   \n",
       "4       NaN         NaN          Basmannoe            1.595898  ...   \n",
       "\n",
       "   nuclear_reactor_km  stadium_km  basketball_km  office_km  \\\n",
       "0            5.718519    8.148591       3.516513   0.637189   \n",
       "1            3.489954    6.127073       1.161579   0.688796   \n",
       "2            7.506612    0.767569       1.952771   1.543049   \n",
       "3            9.522538    7.385521       4.923843   0.934273   \n",
       "4            8.671016    3.610754       0.307915   0.077901   \n",
       "\n",
       "   detention_facility_km  university_km  theater_km  swim_pool_km  \\\n",
       "0               4.248036       6.715026   14.053047      3.065047   \n",
       "1              12.649879       1.852560    6.829889      2.000154   \n",
       "2               7.682303       0.841254    4.273200      1.239304   \n",
       "3               8.789894      10.903161   16.990677      1.950317   \n",
       "4               3.779781       0.991683    1.112486      2.544696   \n",
       "\n",
       "   catering_km  thermal_power_plant_km  \n",
       "0     0.516838                5.814135  \n",
       "1     0.230287                3.419574  \n",
       "2     0.190462                3.682455  \n",
       "3     0.465820               11.178333  \n",
       "4     0.026102                4.587917  \n",
       "\n",
       "[5 rows x 24 columns]"
      ]
     },
     "execution_count": 30,
     "metadata": {},
     "output_type": "execute_result"
    }
   ],
   "source": [
    "data1.head()"
   ]
  },
  {
   "cell_type": "markdown",
   "metadata": {},
   "source": [
    "## Проверяю на пропуски и исправляю их"
   ]
  },
  {
   "cell_type": "code",
   "execution_count": 31,
   "metadata": {},
   "outputs": [
    {
     "name": "stdout",
     "output_type": "stream",
     "text": [
      "Your selected dataframe has 24 columns.\n",
      "There are 4 columns that have missing values.\n"
     ]
    },
    {
     "data": {
      "text/html": [
       "<div>\n",
       "<style scoped>\n",
       "    .dataframe tbody tr th:only-of-type {\n",
       "        vertical-align: middle;\n",
       "    }\n",
       "\n",
       "    .dataframe tbody tr th {\n",
       "        vertical-align: top;\n",
       "    }\n",
       "\n",
       "    .dataframe thead th {\n",
       "        text-align: right;\n",
       "    }\n",
       "</style>\n",
       "<table border=\"1\" class=\"dataframe\">\n",
       "  <thead>\n",
       "    <tr style=\"text-align: right;\">\n",
       "      <th></th>\n",
       "      <th>Missing Values</th>\n",
       "      <th>% of Total Values</th>\n",
       "    </tr>\n",
       "  </thead>\n",
       "  <tbody>\n",
       "    <tr>\n",
       "      <th>build_year</th>\n",
       "      <td>13605</td>\n",
       "      <td>44.6</td>\n",
       "    </tr>\n",
       "    <tr>\n",
       "      <th>num_room</th>\n",
       "      <td>9572</td>\n",
       "      <td>31.4</td>\n",
       "    </tr>\n",
       "    <tr>\n",
       "      <th>material</th>\n",
       "      <td>9572</td>\n",
       "      <td>31.4</td>\n",
       "    </tr>\n",
       "    <tr>\n",
       "      <th>floor</th>\n",
       "      <td>167</td>\n",
       "      <td>0.5</td>\n",
       "    </tr>\n",
       "  </tbody>\n",
       "</table>\n",
       "</div>"
      ],
      "text/plain": [
       "            Missing Values  % of Total Values\n",
       "build_year           13605               44.6\n",
       "num_room              9572               31.4\n",
       "material              9572               31.4\n",
       "floor                  167                0.5"
      ]
     },
     "execution_count": 31,
     "metadata": {},
     "output_type": "execute_result"
    }
   ],
   "source": [
    "missing_values_table(data1)"
   ]
  },
  {
   "cell_type": "markdown",
   "metadata": {},
   "source": [
    "### Исправим экстремальные значения в build_year, так как встречается два вместе одной строкой"
   ]
  },
  {
   "cell_type": "code",
   "execution_count": 32,
   "metadata": {},
   "outputs": [
    {
     "data": {
      "text/plain": [
       "count    1.686600e+04\n",
       "mean     3.068057e+03\n",
       "std      1.543878e+05\n",
       "min      0.000000e+00\n",
       "25%      1.967000e+03\n",
       "50%      1.979000e+03\n",
       "75%      2.005000e+03\n",
       "max      2.005201e+07\n",
       "Name: build_year, dtype: float64"
      ]
     },
     "execution_count": 32,
     "metadata": {},
     "output_type": "execute_result"
    }
   ],
   "source": [
    "data1['build_year'].describe()"
   ]
  },
  {
   "cell_type": "code",
   "execution_count": 33,
   "metadata": {},
   "outputs": [],
   "source": [
    "# Calculate first and third quartile\n",
    "first_quartile = data1['build_year'].describe()['25%']\n",
    "third_quartile = data1['build_year'].describe()['75%']\n",
    "\n",
    "# Interquartile range\n",
    "iqr = third_quartile - first_quartile\n",
    "\n",
    "# Remove outliers\n",
    "data1 = data1[(data1['build_year'] > (first_quartile - 3 * iqr)) &\n",
    "              (data1['build_year'] < (third_quartile + 3 * iqr))]"
   ]
  },
  {
   "cell_type": "code",
   "execution_count": 34,
   "metadata": {},
   "outputs": [
    {
     "data": {
      "text/plain": [
       "count    15960.000000\n",
       "mean      1985.370050\n",
       "std         20.867012\n",
       "min       1860.000000\n",
       "25%       1968.000000\n",
       "50%       1981.000000\n",
       "75%       2006.000000\n",
       "max       2018.000000\n",
       "Name: build_year, dtype: float64"
      ]
     },
     "execution_count": 34,
     "metadata": {},
     "output_type": "execute_result"
    }
   ],
   "source": [
    "data1['build_year'].describe()"
   ]
  },
  {
   "cell_type": "markdown",
   "metadata": {},
   "source": [
    "### Восстановим год по расстоянию до садового кольца"
   ]
  },
  {
   "cell_type": "code",
   "execution_count": 35,
   "metadata": {},
   "outputs": [],
   "source": [
    "data1['weight_category'] = data1.sadovoe_km.apply(lambda w: int(w ))"
   ]
  },
  {
   "cell_type": "code",
   "execution_count": 36,
   "metadata": {},
   "outputs": [
    {
     "data": {
      "text/plain": [
       "weight_category\n",
       "0     1961.221344\n",
       "1     1967.478528\n",
       "2     1988.075330\n",
       "3     1969.899110\n",
       "4     1974.994220\n",
       "5     1974.381818\n",
       "6     1983.125725\n",
       "7     1976.088889\n",
       "8     1976.495040\n",
       "9     1978.167176\n",
       "10    1979.281874\n",
       "11    1982.499270\n",
       "12    1984.319149\n",
       "13    1986.059583\n",
       "14    1984.513716\n",
       "15    1990.872093\n",
       "16    1998.475728\n",
       "17    2001.843023\n",
       "18    2006.963810\n",
       "19    2012.308036\n",
       "20    2009.509804\n",
       "21    2004.054054\n",
       "22    2001.415929\n",
       "23    2008.420168\n",
       "24    2001.988095\n",
       "25    2010.326389\n",
       "26    2014.741117\n",
       "27    2014.347368\n",
       "28    2007.594595\n",
       "29    2008.235294\n",
       "30    1990.666667\n",
       "31    1995.545455\n",
       "32    1998.040000\n",
       "33    1995.971698\n",
       "34    1985.657895\n",
       "35    1994.365639\n",
       "36    1990.960784\n",
       "37    1989.636364\n",
       "38    1973.000000\n",
       "39    1968.000000\n",
       "47    1977.000000\n",
       "48    1995.500000\n",
       "49    2015.531915\n",
       "50    2014.000000\n",
       "53    2004.333333\n",
       "54    1972.000000\n",
       "57    1992.000000\n",
       "58    2014.000000\n",
       "66    2015.000000\n",
       "68    2014.666667\n",
       "Name: build_year, dtype: float64"
      ]
     },
     "execution_count": 36,
     "metadata": {},
     "output_type": "execute_result"
    }
   ],
   "source": [
    "data1.groupby(data1.weight_category).build_year.mean()"
   ]
  },
  {
   "cell_type": "code",
   "execution_count": 37,
   "metadata": {},
   "outputs": [],
   "source": [
    "data1['build_year_nona'] = data1.groupby(data1.weight_category).build_year.apply(lambda h: h.fillna(h.mean()))"
   ]
  },
  {
   "cell_type": "code",
   "execution_count": 38,
   "metadata": {},
   "outputs": [],
   "source": [
    "data1.build_year = data1.build_year_nona"
   ]
  },
  {
   "cell_type": "code",
   "execution_count": 39,
   "metadata": {},
   "outputs": [],
   "source": [
    "data1.drop('build_year_nona', axis=1, inplace=True)\n",
    "data1.drop('weight_category', axis=1, inplace=True)"
   ]
  },
  {
   "cell_type": "code",
   "execution_count": 40,
   "metadata": {},
   "outputs": [
    {
     "data": {
      "text/plain": [
       "0"
      ]
     },
     "execution_count": 40,
     "metadata": {},
     "output_type": "execute_result"
    }
   ],
   "source": [
    "data1.build_year.isna().sum()"
   ]
  },
  {
   "cell_type": "markdown",
   "metadata": {},
   "source": [
    "### num_room и material заполним, предварительно уберем экстремальные значения в full_sq , так как всевозможны площади до 200, а тут встречается 5326"
   ]
  },
  {
   "cell_type": "code",
   "execution_count": 41,
   "metadata": {},
   "outputs": [
    {
     "data": {
      "text/plain": [
       "count    15960.000000\n",
       "mean        53.229699\n",
       "std         21.366808\n",
       "min          1.000000\n",
       "25%         38.000000\n",
       "50%         48.000000\n",
       "75%         63.000000\n",
       "max        637.000000\n",
       "Name: full_sq, dtype: float64"
      ]
     },
     "execution_count": 41,
     "metadata": {},
     "output_type": "execute_result"
    }
   ],
   "source": [
    "data1['full_sq'].describe()"
   ]
  },
  {
   "cell_type": "code",
   "execution_count": 42,
   "metadata": {},
   "outputs": [],
   "source": [
    "# Calculate first and third quartile\n",
    "first_quartile = data1['full_sq'].describe()['25%']\n",
    "third_quartile = data1['full_sq'].describe()['75%']\n",
    "\n",
    "# Interquartile range\n",
    "iqr = third_quartile - first_quartile\n",
    "\n",
    "# Remove outliers\n",
    "data1 = data1[(data1['full_sq'] > (first_quartile - 3 * iqr)) &\n",
    "              (data1['full_sq'] < (third_quartile + 3 * iqr))]"
   ]
  },
  {
   "cell_type": "markdown",
   "metadata": {},
   "source": [
    "### Заполним num_room по full_sq "
   ]
  },
  {
   "cell_type": "code",
   "execution_count": 43,
   "metadata": {},
   "outputs": [
    {
     "data": {
      "text/plain": [
       "count    15865.000000\n",
       "mean        52.498645\n",
       "std         18.656320\n",
       "min          1.000000\n",
       "25%         38.000000\n",
       "50%         47.000000\n",
       "75%         62.000000\n",
       "max        137.000000\n",
       "Name: full_sq, dtype: float64"
      ]
     },
     "execution_count": 43,
     "metadata": {},
     "output_type": "execute_result"
    }
   ],
   "source": [
    "data1['full_sq'].describe()"
   ]
  },
  {
   "cell_type": "code",
   "execution_count": 44,
   "metadata": {},
   "outputs": [],
   "source": [
    "data1['weight_category'] = data1.full_sq.apply(lambda w: int(w /10))"
   ]
  },
  {
   "cell_type": "code",
   "execution_count": 45,
   "metadata": {},
   "outputs": [
    {
     "data": {
      "text/plain": [
       "weight_category\n",
       "0     1.500000\n",
       "1     1.096154\n",
       "2     1.010239\n",
       "3     1.111313\n",
       "4     1.709153\n",
       "5     2.194050\n",
       "6     2.523697\n",
       "7     2.869265\n",
       "8     2.912141\n",
       "9     3.263538\n",
       "10    3.209945\n",
       "11    3.342105\n",
       "12    3.264706\n",
       "13    3.028571\n",
       "Name: num_room, dtype: float64"
      ]
     },
     "execution_count": 45,
     "metadata": {},
     "output_type": "execute_result"
    }
   ],
   "source": [
    "data1.groupby(data1.weight_category).num_room.mean()"
   ]
  },
  {
   "cell_type": "code",
   "execution_count": 46,
   "metadata": {},
   "outputs": [],
   "source": [
    "data1['room_nona'] = data1.groupby(data1.weight_category).num_room.apply(lambda h: h.fillna(h.mean()))"
   ]
  },
  {
   "cell_type": "code",
   "execution_count": 47,
   "metadata": {},
   "outputs": [],
   "source": [
    "data1.num_room = data1.room_nona"
   ]
  },
  {
   "cell_type": "code",
   "execution_count": 48,
   "metadata": {},
   "outputs": [],
   "source": [
    "data1.drop('room_nona', axis=1, inplace=True)\n",
    "data1.drop('weight_category', axis=1, inplace=True)"
   ]
  },
  {
   "cell_type": "code",
   "execution_count": 49,
   "metadata": {},
   "outputs": [
    {
     "data": {
      "text/plain": [
       "0"
      ]
     },
     "execution_count": 49,
     "metadata": {},
     "output_type": "execute_result"
    }
   ],
   "source": [
    "data1.num_room.isna().sum()"
   ]
  },
  {
   "cell_type": "markdown",
   "metadata": {},
   "source": [
    "### Заполним материал домов и этаж средним"
   ]
  },
  {
   "cell_type": "code",
   "execution_count": 50,
   "metadata": {},
   "outputs": [
    {
     "data": {
      "text/plain": [
       "count    20899.000000\n",
       "mean         1.827121\n",
       "std          1.481154\n",
       "min          1.000000\n",
       "25%          1.000000\n",
       "50%          1.000000\n",
       "75%          2.000000\n",
       "max          6.000000\n",
       "Name: material, dtype: float64"
      ]
     },
     "execution_count": 50,
     "metadata": {},
     "output_type": "execute_result"
    }
   ],
   "source": [
    "data['material'].describe()"
   ]
  },
  {
   "cell_type": "code",
   "execution_count": 51,
   "metadata": {},
   "outputs": [],
   "source": [
    "data1.material.fillna(data1.material.mean(), inplace=True)"
   ]
  },
  {
   "cell_type": "code",
   "execution_count": 52,
   "metadata": {},
   "outputs": [],
   "source": [
    "data1.floor.fillna(data1.floor.mean(), inplace=True)"
   ]
  },
  {
   "cell_type": "code",
   "execution_count": 53,
   "metadata": {},
   "outputs": [
    {
     "name": "stdout",
     "output_type": "stream",
     "text": [
      "Your selected dataframe has 24 columns.\n",
      "There are 0 columns that have missing values.\n"
     ]
    },
    {
     "data": {
      "text/html": [
       "<div>\n",
       "<style scoped>\n",
       "    .dataframe tbody tr th:only-of-type {\n",
       "        vertical-align: middle;\n",
       "    }\n",
       "\n",
       "    .dataframe tbody tr th {\n",
       "        vertical-align: top;\n",
       "    }\n",
       "\n",
       "    .dataframe thead th {\n",
       "        text-align: right;\n",
       "    }\n",
       "</style>\n",
       "<table border=\"1\" class=\"dataframe\">\n",
       "  <thead>\n",
       "    <tr style=\"text-align: right;\">\n",
       "      <th></th>\n",
       "      <th>Missing Values</th>\n",
       "      <th>% of Total Values</th>\n",
       "    </tr>\n",
       "  </thead>\n",
       "  <tbody>\n",
       "  </tbody>\n",
       "</table>\n",
       "</div>"
      ],
      "text/plain": [
       "Empty DataFrame\n",
       "Columns: [Missing Values, % of Total Values]\n",
       "Index: []"
      ]
     },
     "execution_count": 53,
     "metadata": {},
     "output_type": "execute_result"
    }
   ],
   "source": [
    "missing_values_table(data1)"
   ]
  },
  {
   "cell_type": "markdown",
   "metadata": {},
   "source": [
    "## Приведем категории к числу и нормализуем"
   ]
  },
  {
   "cell_type": "code",
   "execution_count": 54,
   "metadata": {},
   "outputs": [],
   "source": [
    "data1 = pd.get_dummies(data1, columns=['sub_area'], drop_first=True)"
   ]
  },
  {
   "cell_type": "code",
   "execution_count": 55,
   "metadata": {},
   "outputs": [],
   "source": [
    "from sklearn.preprocessing import StandardScaler\n",
    "scaler = StandardScaler()"
   ]
  },
  {
   "cell_type": "code",
   "execution_count": 56,
   "metadata": {},
   "outputs": [],
   "source": [
    "features = ['num_room','full_sq', 'build_year', 'sport_count_5000', 'trc_count_5000', 'floor', 'material',\n",
    "            'zd_vokzaly_avto_km', 'sadovoe_km', 'kremlin_km', 'bulvar_ring_km', 'ttk_km', 'nuclear_reactor_km', 'stadium_km',\n",
    "            'basketball_km', 'office_km', 'detention_facility_km', 'university_km', 'theater_km', 'swim_pool_km', 'catering_km',\n",
    "            'thermal_power_plant_km']\n",
    "data1[features] = scaler.fit_transform(data1[features])"
   ]
  },
  {
   "cell_type": "code",
   "execution_count": 57,
   "metadata": {},
   "outputs": [
    {
     "data": {
      "text/html": [
       "<div>\n",
       "<style scoped>\n",
       "    .dataframe tbody tr th:only-of-type {\n",
       "        vertical-align: middle;\n",
       "    }\n",
       "\n",
       "    .dataframe tbody tr th {\n",
       "        vertical-align: top;\n",
       "    }\n",
       "\n",
       "    .dataframe thead th {\n",
       "        text-align: right;\n",
       "    }\n",
       "</style>\n",
       "<table border=\"1\" class=\"dataframe\">\n",
       "  <thead>\n",
       "    <tr style=\"text-align: right;\">\n",
       "      <th></th>\n",
       "      <th>price_doc</th>\n",
       "      <th>num_room</th>\n",
       "      <th>full_sq</th>\n",
       "      <th>sport_count_5000</th>\n",
       "      <th>trc_count_5000</th>\n",
       "      <th>floor</th>\n",
       "      <th>material</th>\n",
       "      <th>build_year</th>\n",
       "      <th>zd_vokzaly_avto_km</th>\n",
       "      <th>sadovoe_km</th>\n",
       "      <th>...</th>\n",
       "      <th>sub_area_Vnukovo</th>\n",
       "      <th>sub_area_Vojkovskoe</th>\n",
       "      <th>sub_area_Vostochnoe</th>\n",
       "      <th>sub_area_Vostochnoe Degunino</th>\n",
       "      <th>sub_area_Vostochnoe Izmajlovo</th>\n",
       "      <th>sub_area_Vyhino-Zhulebino</th>\n",
       "      <th>sub_area_Zamoskvorech'e</th>\n",
       "      <th>sub_area_Zapadnoe Degunino</th>\n",
       "      <th>sub_area_Zjablikovo</th>\n",
       "      <th>sub_area_Zjuzino</th>\n",
       "    </tr>\n",
       "  </thead>\n",
       "  <tbody>\n",
       "    <tr>\n",
       "      <th>8056</th>\n",
       "      <td>2750000</td>\n",
       "      <td>-1.097643</td>\n",
       "      <td>-2.224445</td>\n",
       "      <td>2.321105</td>\n",
       "      <td>2.211732</td>\n",
       "      <td>-1.012016</td>\n",
       "      <td>0.054980</td>\n",
       "      <td>-3.768980</td>\n",
       "      <td>-1.101552</td>\n",
       "      <td>-1.579062</td>\n",
       "      <td>...</td>\n",
       "      <td>0</td>\n",
       "      <td>0</td>\n",
       "      <td>0</td>\n",
       "      <td>0</td>\n",
       "      <td>0</td>\n",
       "      <td>0</td>\n",
       "      <td>0</td>\n",
       "      <td>0</td>\n",
       "      <td>0</td>\n",
       "      <td>0</td>\n",
       "    </tr>\n",
       "    <tr>\n",
       "      <th>8135</th>\n",
       "      <td>9000000</td>\n",
       "      <td>0.074077</td>\n",
       "      <td>0.026874</td>\n",
       "      <td>-0.341890</td>\n",
       "      <td>0.612295</td>\n",
       "      <td>0.570697</td>\n",
       "      <td>-0.605826</td>\n",
       "      <td>-0.254866</td>\n",
       "      <td>-0.170497</td>\n",
       "      <td>0.107532</td>\n",
       "      <td>...</td>\n",
       "      <td>0</td>\n",
       "      <td>0</td>\n",
       "      <td>0</td>\n",
       "      <td>0</td>\n",
       "      <td>0</td>\n",
       "      <td>0</td>\n",
       "      <td>0</td>\n",
       "      <td>0</td>\n",
       "      <td>0</td>\n",
       "      <td>0</td>\n",
       "    </tr>\n",
       "    <tr>\n",
       "      <th>8153</th>\n",
       "      <td>7011550</td>\n",
       "      <td>1.245798</td>\n",
       "      <td>1.313342</td>\n",
       "      <td>-1.129210</td>\n",
       "      <td>-1.352727</td>\n",
       "      <td>-1.012016</td>\n",
       "      <td>2.698207</td>\n",
       "      <td>1.381845</td>\n",
       "      <td>1.535524</td>\n",
       "      <td>1.459208</td>\n",
       "      <td>...</td>\n",
       "      <td>0</td>\n",
       "      <td>0</td>\n",
       "      <td>0</td>\n",
       "      <td>0</td>\n",
       "      <td>0</td>\n",
       "      <td>0</td>\n",
       "      <td>0</td>\n",
       "      <td>0</td>\n",
       "      <td>0</td>\n",
       "      <td>0</td>\n",
       "    </tr>\n",
       "    <tr>\n",
       "      <th>8154</th>\n",
       "      <td>7100000</td>\n",
       "      <td>0.074077</td>\n",
       "      <td>-0.401949</td>\n",
       "      <td>-0.967115</td>\n",
       "      <td>-0.438763</td>\n",
       "      <td>-0.220659</td>\n",
       "      <td>-0.605826</td>\n",
       "      <td>-0.736251</td>\n",
       "      <td>0.643289</td>\n",
       "      <td>0.805394</td>\n",
       "      <td>...</td>\n",
       "      <td>0</td>\n",
       "      <td>0</td>\n",
       "      <td>0</td>\n",
       "      <td>0</td>\n",
       "      <td>0</td>\n",
       "      <td>0</td>\n",
       "      <td>0</td>\n",
       "      <td>0</td>\n",
       "      <td>0</td>\n",
       "      <td>0</td>\n",
       "    </tr>\n",
       "    <tr>\n",
       "      <th>8175</th>\n",
       "      <td>6450000</td>\n",
       "      <td>-1.097643</td>\n",
       "      <td>-0.777168</td>\n",
       "      <td>0.792778</td>\n",
       "      <td>-0.027479</td>\n",
       "      <td>1.559892</td>\n",
       "      <td>-0.605826</td>\n",
       "      <td>-0.158589</td>\n",
       "      <td>-0.549894</td>\n",
       "      <td>-0.745800</td>\n",
       "      <td>...</td>\n",
       "      <td>0</td>\n",
       "      <td>0</td>\n",
       "      <td>0</td>\n",
       "      <td>0</td>\n",
       "      <td>0</td>\n",
       "      <td>0</td>\n",
       "      <td>0</td>\n",
       "      <td>0</td>\n",
       "      <td>0</td>\n",
       "      <td>0</td>\n",
       "    </tr>\n",
       "  </tbody>\n",
       "</table>\n",
       "<p>5 rows × 168 columns</p>\n",
       "</div>"
      ],
      "text/plain": [
       "      price_doc  num_room   full_sq  sport_count_5000  trc_count_5000  \\\n",
       "8056    2750000 -1.097643 -2.224445          2.321105        2.211732   \n",
       "8135    9000000  0.074077  0.026874         -0.341890        0.612295   \n",
       "8153    7011550  1.245798  1.313342         -1.129210       -1.352727   \n",
       "8154    7100000  0.074077 -0.401949         -0.967115       -0.438763   \n",
       "8175    6450000 -1.097643 -0.777168          0.792778       -0.027479   \n",
       "\n",
       "         floor  material  build_year  zd_vokzaly_avto_km  sadovoe_km  ...  \\\n",
       "8056 -1.012016  0.054980   -3.768980           -1.101552   -1.579062  ...   \n",
       "8135  0.570697 -0.605826   -0.254866           -0.170497    0.107532  ...   \n",
       "8153 -1.012016  2.698207    1.381845            1.535524    1.459208  ...   \n",
       "8154 -0.220659 -0.605826   -0.736251            0.643289    0.805394  ...   \n",
       "8175  1.559892 -0.605826   -0.158589           -0.549894   -0.745800  ...   \n",
       "\n",
       "      sub_area_Vnukovo  sub_area_Vojkovskoe  sub_area_Vostochnoe  \\\n",
       "8056                 0                    0                    0   \n",
       "8135                 0                    0                    0   \n",
       "8153                 0                    0                    0   \n",
       "8154                 0                    0                    0   \n",
       "8175                 0                    0                    0   \n",
       "\n",
       "      sub_area_Vostochnoe Degunino  sub_area_Vostochnoe Izmajlovo  \\\n",
       "8056                             0                              0   \n",
       "8135                             0                              0   \n",
       "8153                             0                              0   \n",
       "8154                             0                              0   \n",
       "8175                             0                              0   \n",
       "\n",
       "      sub_area_Vyhino-Zhulebino  sub_area_Zamoskvorech'e  \\\n",
       "8056                          0                        0   \n",
       "8135                          0                        0   \n",
       "8153                          0                        0   \n",
       "8154                          0                        0   \n",
       "8175                          0                        0   \n",
       "\n",
       "      sub_area_Zapadnoe Degunino  sub_area_Zjablikovo  sub_area_Zjuzino  \n",
       "8056                           0                    0                 0  \n",
       "8135                           0                    0                 0  \n",
       "8153                           0                    0                 0  \n",
       "8154                           0                    0                 0  \n",
       "8175                           0                    0                 0  \n",
       "\n",
       "[5 rows x 168 columns]"
      ]
     },
     "execution_count": 57,
     "metadata": {},
     "output_type": "execute_result"
    }
   ],
   "source": [
    "data1.head()"
   ]
  },
  {
   "cell_type": "markdown",
   "metadata": {},
   "source": [
    "## Записываю новый датасет в csv и добавляю в dvc"
   ]
  },
  {
   "cell_type": "code",
   "execution_count": 58,
   "metadata": {},
   "outputs": [],
   "source": [
    "data1.to_csv('data/test_new.csv', sep=';')"
   ]
  },
  {
   "cell_type": "code",
   "execution_count": 59,
   "metadata": {},
   "outputs": [
    {
     "name": "stdout",
     "output_type": "stream",
     "text": [
      "\n",
      "To track the changes with git, run:\n",
      "\n",
      "\tgit add 'data\\test_new.csv.dvc' 'data\\.gitignore'\n",
      "\n",
      "To enable auto staging, run:\n",
      "\n",
      "\tdvc config core.autostage true\n"
     ]
    }
   ],
   "source": [
    "! dvc add data/test_new.csv"
   ]
  },
  {
   "cell_type": "code",
   "execution_count": 60,
   "metadata": {},
   "outputs": [
    {
     "name": "stdout",
     "output_type": "stream",
     "text": [
      "[main 0a4580f] Add new data\n",
      " 2 files changed, 5 insertions(+)\n",
      " create mode 100644 data/test_new.csv.dvc\n"
     ]
    }
   ],
   "source": [
    "! git add data/test_new.csv.dvc  data/.gitignore\n",
    "! git commit -m \"Add new data\""
   ]
  },
  {
   "cell_type": "code",
   "execution_count": 61,
   "metadata": {},
   "outputs": [
    {
     "name": "stdout",
     "output_type": "stream",
     "text": [
      "On branch main\n",
      "Your branch is ahead of 'origin/main' by 7 commits.\n",
      "  (use \"git push\" to publish your local commits)\n",
      "\n",
      "Changes not staged for commit:\n",
      "  (use \"git add <file>...\" to update what will be committed)\n",
      "  (use \"git restore <file>...\" to discard changes in working directory)\n",
      "\tmodified:   README.md\n",
      "\tmodified:   task_sberHousing.ipynb\n",
      "\n",
      "Untracked files:\n",
      "  (use \"git add <file>...\" to include in what will be committed)\n",
      "\t.ipynb_checkpoints/\n",
      "\n",
      "no changes added to commit (use \"git add\" and/or \"git commit -a\")\n"
     ]
    }
   ],
   "source": [
    "! git add .dvc/config\n",
    "! git commit -m \"Configure remote storage\""
   ]
  },
  {
   "cell_type": "code",
   "execution_count": 62,
   "metadata": {},
   "outputs": [
    {
     "name": "stdout",
     "output_type": "stream",
     "text": [
      "Everything is up to date.\n"
     ]
    }
   ],
   "source": [
    "! dvc push"
   ]
  },
  {
   "cell_type": "markdown",
   "metadata": {},
   "source": [
    "## Считываю данные"
   ]
  },
  {
   "cell_type": "code",
   "execution_count": 64,
   "metadata": {},
   "outputs": [],
   "source": [
    "df = pd.read_csv(\"data/test_new.csv\", sep = ';')"
   ]
  },
  {
   "cell_type": "code",
   "execution_count": 67,
   "metadata": {},
   "outputs": [
    {
     "data": {
      "text/html": [
       "<div>\n",
       "<style scoped>\n",
       "    .dataframe tbody tr th:only-of-type {\n",
       "        vertical-align: middle;\n",
       "    }\n",
       "\n",
       "    .dataframe tbody tr th {\n",
       "        vertical-align: top;\n",
       "    }\n",
       "\n",
       "    .dataframe thead th {\n",
       "        text-align: right;\n",
       "    }\n",
       "</style>\n",
       "<table border=\"1\" class=\"dataframe\">\n",
       "  <thead>\n",
       "    <tr style=\"text-align: right;\">\n",
       "      <th></th>\n",
       "      <th>price_doc</th>\n",
       "      <th>num_room</th>\n",
       "      <th>full_sq</th>\n",
       "      <th>sport_count_5000</th>\n",
       "      <th>trc_count_5000</th>\n",
       "      <th>floor</th>\n",
       "      <th>material</th>\n",
       "      <th>build_year</th>\n",
       "      <th>zd_vokzaly_avto_km</th>\n",
       "      <th>sadovoe_km</th>\n",
       "      <th>...</th>\n",
       "      <th>sub_area_Vnukovo</th>\n",
       "      <th>sub_area_Vojkovskoe</th>\n",
       "      <th>sub_area_Vostochnoe</th>\n",
       "      <th>sub_area_Vostochnoe Degunino</th>\n",
       "      <th>sub_area_Vostochnoe Izmajlovo</th>\n",
       "      <th>sub_area_Vyhino-Zhulebino</th>\n",
       "      <th>sub_area_Zamoskvorech'e</th>\n",
       "      <th>sub_area_Zapadnoe Degunino</th>\n",
       "      <th>sub_area_Zjablikovo</th>\n",
       "      <th>sub_area_Zjuzino</th>\n",
       "    </tr>\n",
       "  </thead>\n",
       "  <tbody>\n",
       "    <tr>\n",
       "      <th>0</th>\n",
       "      <td>2750000</td>\n",
       "      <td>-1.097643</td>\n",
       "      <td>-2.224445</td>\n",
       "      <td>2.321105</td>\n",
       "      <td>2.211732</td>\n",
       "      <td>-1.012016</td>\n",
       "      <td>0.054980</td>\n",
       "      <td>-3.768980</td>\n",
       "      <td>-1.101552</td>\n",
       "      <td>-1.579062</td>\n",
       "      <td>...</td>\n",
       "      <td>0</td>\n",
       "      <td>0</td>\n",
       "      <td>0</td>\n",
       "      <td>0</td>\n",
       "      <td>0</td>\n",
       "      <td>0</td>\n",
       "      <td>0</td>\n",
       "      <td>0</td>\n",
       "      <td>0</td>\n",
       "      <td>0</td>\n",
       "    </tr>\n",
       "    <tr>\n",
       "      <th>1</th>\n",
       "      <td>9000000</td>\n",
       "      <td>0.074077</td>\n",
       "      <td>0.026874</td>\n",
       "      <td>-0.341890</td>\n",
       "      <td>0.612295</td>\n",
       "      <td>0.570697</td>\n",
       "      <td>-0.605826</td>\n",
       "      <td>-0.254866</td>\n",
       "      <td>-0.170497</td>\n",
       "      <td>0.107532</td>\n",
       "      <td>...</td>\n",
       "      <td>0</td>\n",
       "      <td>0</td>\n",
       "      <td>0</td>\n",
       "      <td>0</td>\n",
       "      <td>0</td>\n",
       "      <td>0</td>\n",
       "      <td>0</td>\n",
       "      <td>0</td>\n",
       "      <td>0</td>\n",
       "      <td>0</td>\n",
       "    </tr>\n",
       "    <tr>\n",
       "      <th>2</th>\n",
       "      <td>7011550</td>\n",
       "      <td>1.245798</td>\n",
       "      <td>1.313342</td>\n",
       "      <td>-1.129210</td>\n",
       "      <td>-1.352727</td>\n",
       "      <td>-1.012016</td>\n",
       "      <td>2.698207</td>\n",
       "      <td>1.381845</td>\n",
       "      <td>1.535524</td>\n",
       "      <td>1.459208</td>\n",
       "      <td>...</td>\n",
       "      <td>0</td>\n",
       "      <td>0</td>\n",
       "      <td>0</td>\n",
       "      <td>0</td>\n",
       "      <td>0</td>\n",
       "      <td>0</td>\n",
       "      <td>0</td>\n",
       "      <td>0</td>\n",
       "      <td>0</td>\n",
       "      <td>0</td>\n",
       "    </tr>\n",
       "    <tr>\n",
       "      <th>3</th>\n",
       "      <td>7100000</td>\n",
       "      <td>0.074077</td>\n",
       "      <td>-0.401949</td>\n",
       "      <td>-0.967115</td>\n",
       "      <td>-0.438763</td>\n",
       "      <td>-0.220659</td>\n",
       "      <td>-0.605826</td>\n",
       "      <td>-0.736251</td>\n",
       "      <td>0.643289</td>\n",
       "      <td>0.805394</td>\n",
       "      <td>...</td>\n",
       "      <td>0</td>\n",
       "      <td>0</td>\n",
       "      <td>0</td>\n",
       "      <td>0</td>\n",
       "      <td>0</td>\n",
       "      <td>0</td>\n",
       "      <td>0</td>\n",
       "      <td>0</td>\n",
       "      <td>0</td>\n",
       "      <td>0</td>\n",
       "    </tr>\n",
       "    <tr>\n",
       "      <th>4</th>\n",
       "      <td>6450000</td>\n",
       "      <td>-1.097643</td>\n",
       "      <td>-0.777168</td>\n",
       "      <td>0.792778</td>\n",
       "      <td>-0.027479</td>\n",
       "      <td>1.559892</td>\n",
       "      <td>-0.605826</td>\n",
       "      <td>-0.158589</td>\n",
       "      <td>-0.549894</td>\n",
       "      <td>-0.745800</td>\n",
       "      <td>...</td>\n",
       "      <td>0</td>\n",
       "      <td>0</td>\n",
       "      <td>0</td>\n",
       "      <td>0</td>\n",
       "      <td>0</td>\n",
       "      <td>0</td>\n",
       "      <td>0</td>\n",
       "      <td>0</td>\n",
       "      <td>0</td>\n",
       "      <td>0</td>\n",
       "    </tr>\n",
       "    <tr>\n",
       "      <th>...</th>\n",
       "      <td>...</td>\n",
       "      <td>...</td>\n",
       "      <td>...</td>\n",
       "      <td>...</td>\n",
       "      <td>...</td>\n",
       "      <td>...</td>\n",
       "      <td>...</td>\n",
       "      <td>...</td>\n",
       "      <td>...</td>\n",
       "      <td>...</td>\n",
       "      <td>...</td>\n",
       "      <td>...</td>\n",
       "      <td>...</td>\n",
       "      <td>...</td>\n",
       "      <td>...</td>\n",
       "      <td>...</td>\n",
       "      <td>...</td>\n",
       "      <td>...</td>\n",
       "      <td>...</td>\n",
       "      <td>...</td>\n",
       "      <td>...</td>\n",
       "    </tr>\n",
       "    <tr>\n",
       "      <th>15860</th>\n",
       "      <td>10262010</td>\n",
       "      <td>0.074077</td>\n",
       "      <td>0.187683</td>\n",
       "      <td>0.676995</td>\n",
       "      <td>0.018219</td>\n",
       "      <td>2.351248</td>\n",
       "      <td>-0.605826</td>\n",
       "      <td>1.526261</td>\n",
       "      <td>-0.838710</td>\n",
       "      <td>-0.519662</td>\n",
       "      <td>...</td>\n",
       "      <td>0</td>\n",
       "      <td>0</td>\n",
       "      <td>0</td>\n",
       "      <td>0</td>\n",
       "      <td>0</td>\n",
       "      <td>0</td>\n",
       "      <td>0</td>\n",
       "      <td>0</td>\n",
       "      <td>0</td>\n",
       "      <td>0</td>\n",
       "    </tr>\n",
       "    <tr>\n",
       "      <th>15861</th>\n",
       "      <td>7400000</td>\n",
       "      <td>0.074077</td>\n",
       "      <td>-0.455551</td>\n",
       "      <td>0.538056</td>\n",
       "      <td>0.840786</td>\n",
       "      <td>-0.022820</td>\n",
       "      <td>-0.605826</td>\n",
       "      <td>-0.495559</td>\n",
       "      <td>-0.385722</td>\n",
       "      <td>-0.243999</td>\n",
       "      <td>...</td>\n",
       "      <td>0</td>\n",
       "      <td>0</td>\n",
       "      <td>0</td>\n",
       "      <td>0</td>\n",
       "      <td>0</td>\n",
       "      <td>0</td>\n",
       "      <td>0</td>\n",
       "      <td>0</td>\n",
       "      <td>0</td>\n",
       "      <td>0</td>\n",
       "    </tr>\n",
       "    <tr>\n",
       "      <th>15862</th>\n",
       "      <td>25000000</td>\n",
       "      <td>2.417518</td>\n",
       "      <td>1.795767</td>\n",
       "      <td>2.552670</td>\n",
       "      <td>2.531620</td>\n",
       "      <td>-0.814176</td>\n",
       "      <td>0.054980</td>\n",
       "      <td>-2.421101</td>\n",
       "      <td>-1.503097</td>\n",
       "      <td>-1.448331</td>\n",
       "      <td>...</td>\n",
       "      <td>0</td>\n",
       "      <td>0</td>\n",
       "      <td>0</td>\n",
       "      <td>0</td>\n",
       "      <td>0</td>\n",
       "      <td>0</td>\n",
       "      <td>0</td>\n",
       "      <td>0</td>\n",
       "      <td>0</td>\n",
       "      <td>0</td>\n",
       "    </tr>\n",
       "    <tr>\n",
       "      <th>15863</th>\n",
       "      <td>13500000</td>\n",
       "      <td>0.074077</td>\n",
       "      <td>0.616505</td>\n",
       "      <td>0.098083</td>\n",
       "      <td>0.475201</td>\n",
       "      <td>-0.418498</td>\n",
       "      <td>-0.605826</td>\n",
       "      <td>0.852321</td>\n",
       "      <td>0.034599</td>\n",
       "      <td>-0.088203</td>\n",
       "      <td>...</td>\n",
       "      <td>0</td>\n",
       "      <td>0</td>\n",
       "      <td>0</td>\n",
       "      <td>0</td>\n",
       "      <td>0</td>\n",
       "      <td>0</td>\n",
       "      <td>0</td>\n",
       "      <td>0</td>\n",
       "      <td>0</td>\n",
       "      <td>0</td>\n",
       "    </tr>\n",
       "    <tr>\n",
       "      <th>15864</th>\n",
       "      <td>5600000</td>\n",
       "      <td>0.074077</td>\n",
       "      <td>-0.509154</td>\n",
       "      <td>-0.156638</td>\n",
       "      <td>-0.575858</td>\n",
       "      <td>-1.209855</td>\n",
       "      <td>-0.605826</td>\n",
       "      <td>-0.832528</td>\n",
       "      <td>-0.294599</td>\n",
       "      <td>-0.355987</td>\n",
       "      <td>...</td>\n",
       "      <td>0</td>\n",
       "      <td>0</td>\n",
       "      <td>0</td>\n",
       "      <td>0</td>\n",
       "      <td>0</td>\n",
       "      <td>0</td>\n",
       "      <td>0</td>\n",
       "      <td>0</td>\n",
       "      <td>0</td>\n",
       "      <td>0</td>\n",
       "    </tr>\n",
       "  </tbody>\n",
       "</table>\n",
       "<p>15865 rows × 168 columns</p>\n",
       "</div>"
      ],
      "text/plain": [
       "       price_doc  num_room   full_sq  sport_count_5000  trc_count_5000  \\\n",
       "0        2750000 -1.097643 -2.224445          2.321105        2.211732   \n",
       "1        9000000  0.074077  0.026874         -0.341890        0.612295   \n",
       "2        7011550  1.245798  1.313342         -1.129210       -1.352727   \n",
       "3        7100000  0.074077 -0.401949         -0.967115       -0.438763   \n",
       "4        6450000 -1.097643 -0.777168          0.792778       -0.027479   \n",
       "...          ...       ...       ...               ...             ...   \n",
       "15860   10262010  0.074077  0.187683          0.676995        0.018219   \n",
       "15861    7400000  0.074077 -0.455551          0.538056        0.840786   \n",
       "15862   25000000  2.417518  1.795767          2.552670        2.531620   \n",
       "15863   13500000  0.074077  0.616505          0.098083        0.475201   \n",
       "15864    5600000  0.074077 -0.509154         -0.156638       -0.575858   \n",
       "\n",
       "          floor  material  build_year  zd_vokzaly_avto_km  sadovoe_km  ...  \\\n",
       "0     -1.012016  0.054980   -3.768980           -1.101552   -1.579062  ...   \n",
       "1      0.570697 -0.605826   -0.254866           -0.170497    0.107532  ...   \n",
       "2     -1.012016  2.698207    1.381845            1.535524    1.459208  ...   \n",
       "3     -0.220659 -0.605826   -0.736251            0.643289    0.805394  ...   \n",
       "4      1.559892 -0.605826   -0.158589           -0.549894   -0.745800  ...   \n",
       "...         ...       ...         ...                 ...         ...  ...   \n",
       "15860  2.351248 -0.605826    1.526261           -0.838710   -0.519662  ...   \n",
       "15861 -0.022820 -0.605826   -0.495559           -0.385722   -0.243999  ...   \n",
       "15862 -0.814176  0.054980   -2.421101           -1.503097   -1.448331  ...   \n",
       "15863 -0.418498 -0.605826    0.852321            0.034599   -0.088203  ...   \n",
       "15864 -1.209855 -0.605826   -0.832528           -0.294599   -0.355987  ...   \n",
       "\n",
       "       sub_area_Vnukovo  sub_area_Vojkovskoe  sub_area_Vostochnoe  \\\n",
       "0                     0                    0                    0   \n",
       "1                     0                    0                    0   \n",
       "2                     0                    0                    0   \n",
       "3                     0                    0                    0   \n",
       "4                     0                    0                    0   \n",
       "...                 ...                  ...                  ...   \n",
       "15860                 0                    0                    0   \n",
       "15861                 0                    0                    0   \n",
       "15862                 0                    0                    0   \n",
       "15863                 0                    0                    0   \n",
       "15864                 0                    0                    0   \n",
       "\n",
       "       sub_area_Vostochnoe Degunino  sub_area_Vostochnoe Izmajlovo  \\\n",
       "0                                 0                              0   \n",
       "1                                 0                              0   \n",
       "2                                 0                              0   \n",
       "3                                 0                              0   \n",
       "4                                 0                              0   \n",
       "...                             ...                            ...   \n",
       "15860                             0                              0   \n",
       "15861                             0                              0   \n",
       "15862                             0                              0   \n",
       "15863                             0                              0   \n",
       "15864                             0                              0   \n",
       "\n",
       "       sub_area_Vyhino-Zhulebino  sub_area_Zamoskvorech'e  \\\n",
       "0                              0                        0   \n",
       "1                              0                        0   \n",
       "2                              0                        0   \n",
       "3                              0                        0   \n",
       "4                              0                        0   \n",
       "...                          ...                      ...   \n",
       "15860                          0                        0   \n",
       "15861                          0                        0   \n",
       "15862                          0                        0   \n",
       "15863                          0                        0   \n",
       "15864                          0                        0   \n",
       "\n",
       "       sub_area_Zapadnoe Degunino  sub_area_Zjablikovo  sub_area_Zjuzino  \n",
       "0                               0                    0                 0  \n",
       "1                               0                    0                 0  \n",
       "2                               0                    0                 0  \n",
       "3                               0                    0                 0  \n",
       "4                               0                    0                 0  \n",
       "...                           ...                  ...               ...  \n",
       "15860                           0                    0                 0  \n",
       "15861                           0                    0                 0  \n",
       "15862                           0                    0                 0  \n",
       "15863                           0                    0                 0  \n",
       "15864                           0                    0                 0  \n",
       "\n",
       "[15865 rows x 168 columns]"
      ]
     },
     "execution_count": 67,
     "metadata": {},
     "output_type": "execute_result"
    }
   ],
   "source": [
    "df.drop(columns=['Unnamed: 0'])"
   ]
  },
  {
   "cell_type": "markdown",
   "metadata": {},
   "source": [
    "## Train/Test"
   ]
  },
  {
   "cell_type": "code",
   "execution_count": 69,
   "metadata": {},
   "outputs": [
    {
     "name": "stdout",
     "output_type": "stream",
     "text": [
      "(15865, 167)\n",
      "(15865,)\n"
     ]
    }
   ],
   "source": [
    "from sklearn.model_selection import train_test_split\n",
    "\n",
    "X = data1.drop('price_doc', axis=1).to_numpy()\n",
    "y = data1.price_doc.to_numpy()\n",
    "\n",
    "\n",
    "print(X.shape)\n",
    "print(y.shape)"
   ]
  },
  {
   "cell_type": "code",
   "execution_count": 70,
   "metadata": {},
   "outputs": [],
   "source": [
    "X_train, X_test, y_train, y_test = train_test_split(X, y, test_size=0.33, random_state=42)"
   ]
  },
  {
   "cell_type": "markdown",
   "metadata": {},
   "source": [
    "### Linear regression"
   ]
  },
  {
   "cell_type": "code",
   "execution_count": 71,
   "metadata": {},
   "outputs": [],
   "source": [
    "from sklearn.linear_model import LinearRegression\n",
    "from sklearn.metrics import mean_squared_error, r2_score"
   ]
  },
  {
   "cell_type": "code",
   "execution_count": 72,
   "metadata": {},
   "outputs": [],
   "source": [
    "model = LinearRegression()\n",
    "model.fit(X_train, y_train)\n",
    "y_pred = model.predict(X_test)"
   ]
  },
  {
   "cell_type": "code",
   "execution_count": 73,
   "metadata": {},
   "outputs": [
    {
     "data": {
      "text/plain": [
       "8306882922145.623"
      ]
     },
     "execution_count": 73,
     "metadata": {},
     "output_type": "execute_result"
    }
   ],
   "source": [
    "mean_squared_error(y_test, y_pred)"
   ]
  },
  {
   "cell_type": "markdown",
   "metadata": {},
   "source": [
    "### Опрределим лучшие коэффициенты и сделаем SGDR Regression"
   ]
  },
  {
   "cell_type": "code",
   "execution_count": 74,
   "metadata": {},
   "outputs": [],
   "source": [
    "from sklearn.linear_model import SGDRegressor"
   ]
  },
  {
   "cell_type": "code",
   "execution_count": 75,
   "metadata": {},
   "outputs": [
    {
     "data": {
      "text/plain": [
       "{'alpha': 1, 'max_iter': 10000, 'penalty': 'l1'}"
      ]
     },
     "execution_count": 75,
     "metadata": {},
     "output_type": "execute_result"
    }
   ],
   "source": [
    "from sklearn.model_selection import GridSearchCV\n",
    "parameters = {'penalty': ['l1', 'l2'], 'alpha': [0.01, 0.05, 0.1, 0.5, 1], 'max_iter': [1000, 5000, 10000]}\n",
    "model1 = SGDRegressor()\n",
    "gs_model = GridSearchCV(model1, parameters, scoring='neg_mean_squared_error', cv=5, n_jobs=-1)\n",
    "gs_model.fit(X_train, y_train)\n",
    "gs_model.best_params_"
   ]
  },
  {
   "cell_type": "code",
   "execution_count": 76,
   "metadata": {},
   "outputs": [],
   "source": [
    "model = SGDRegressor(penalty='l1', alpha=0.01, max_iter=10000)"
   ]
  },
  {
   "cell_type": "code",
   "execution_count": 77,
   "metadata": {},
   "outputs": [
    {
     "data": {
      "text/plain": [
       "SGDRegressor(alpha=0.01, max_iter=10000, penalty='l1')"
      ]
     },
     "execution_count": 77,
     "metadata": {},
     "output_type": "execute_result"
    }
   ],
   "source": [
    "model.fit(X_train, y_train)"
   ]
  },
  {
   "cell_type": "code",
   "execution_count": 78,
   "metadata": {},
   "outputs": [
    {
     "data": {
      "text/plain": [
       "8412087801418.289"
      ]
     },
     "execution_count": 78,
     "metadata": {},
     "output_type": "execute_result"
    }
   ],
   "source": [
    "y_pred = model.predict(X_test)\n",
    "mean_squared_error(y_test, y_pred)"
   ]
  },
  {
   "cell_type": "code",
   "execution_count": 80,
   "metadata": {},
   "outputs": [],
   "source": [
    "ls = np.arange(2400, 2501)\n",
    "y_tst_plot = np.empty(0, int)\n",
    "y_train_plot = np.empty(0, int)\n",
    "for i in ls:\n",
    "    y_tst_plot = np.append(y_tst_plot, y_test[i])\n",
    "    y_train_plot = np.append(y_train_plot, y_pred[i])"
   ]
  },
  {
   "cell_type": "code",
   "execution_count": 81,
   "metadata": {},
   "outputs": [
    {
     "data": {
      "image/png": "[encoded data removed]",
      "text/plain": [
       "<Figure size 1080x576 with 1 Axes>"
      ]
     },
     "metadata": {},
     "output_type": "display_data"
    }
   ],
   "source": [
    "fig, ax = plt.subplots(figsize=(15, 8))\n",
    "plt.plot(ls, y_tst_plot, 'go', label='Real')\n",
    "plt.plot(ls, y_train_plot, 'ro', label='Predicted')\n",
    "plt.legend()\n",
    "ax.set_xticks(list(ls), minor=True)\n",
    "ax.xaxis.grid(True, which='minor')\n",
    "plt.show()"
   ]
  },
  {
   "cell_type": "code",
   "execution_count": 82,
   "metadata": {},
   "outputs": [
    {
     "data": {
      "text/plain": [
       "array([129,  47,  44, 128,   9, 163,  70,  78,   1,  50], dtype=int64)"
      ]
     },
     "execution_count": 82,
     "metadata": {},
     "output_type": "execute_result"
    }
   ],
   "source": [
    "np.argsort(model.coef_)[-10:]"
   ]
  },
  {
   "cell_type": "markdown",
   "metadata": {},
   "source": [
    "#### Значимыми получились: 1 - num_room, 9 - sadovoe_km, остальные по индексу >24 - район "
   ]
  },
  {
   "cell_type": "markdown",
   "metadata": {},
   "source": [
    "### Сравним модель с простым предсказанием средней цены"
   ]
  },
  {
   "cell_type": "code",
   "execution_count": 83,
   "metadata": {},
   "outputs": [],
   "source": [
    "y_pred_mean = np.full(len(y_test), data1.price_doc.mean())"
   ]
  },
  {
   "cell_type": "code",
   "execution_count": 84,
   "metadata": {},
   "outputs": [
    {
     "data": {
      "text/plain": [
       "18445857166392.848"
      ]
     },
     "execution_count": 84,
     "metadata": {},
     "output_type": "execute_result"
    }
   ],
   "source": [
    "mean_squared_error(y_test, y_pred_mean)"
   ]
  },
  {
   "cell_type": "code",
   "execution_count": 85,
   "metadata": {},
   "outputs": [
    {
     "data": {
      "text/plain": [
       "2.1927799140758912"
      ]
     },
     "execution_count": 85,
     "metadata": {},
     "output_type": "execute_result"
    }
   ],
   "source": [
    "mean_squared_error(y_test, y_pred_mean) / mean_squared_error(y_test, y_pred)"
   ]
  },
  {
   "cell_type": "markdown",
   "metadata": {},
   "source": [
    "#### Если предсказывать среднюю цену, то ошибка такого предсказания будет в 2 раза больше, чем на моей модели"
   ]
  },
  {
   "cell_type": "markdown",
   "metadata": {},
   "source": [
    "## git push "
   ]
  },
  {
   "cell_type": "code",
   "execution_count": null,
   "metadata": {},
   "outputs": [],
   "source": [
    "# git add task_sberHousing.ipynb \n",
    "# git commit -m \"Final commit\"\n",
    "# git push -u origin main"
   ]
  }
 ],
 "metadata": {
  "kernelspec": {
   "display_name": "Python 3",
   "language": "python",
   "name": "python3"
  },
  "language_info": {
   "codemirror_mode": {
    "name": "ipython",
    "version": 3
   },
   "file_extension": ".py",
   "mimetype": "text/x-python",
   "name": "python",
   "nbconvert_exporter": "python",
   "pygments_lexer": "ipython3",
   "version": "3.8.8"
  }
 },
 "nbformat": 4,
 "nbformat_minor": 4
}
